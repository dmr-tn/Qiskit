{
 "cells": [
  {
   "cell_type": "code",
   "execution_count": 1,
   "id": "rental-anaheim",
   "metadata": {},
   "outputs": [],
   "source": [
    "from qiskit import *\n",
    "S_simulator = Aer.backends(name='statevector_simulator')[0]\n",
    "M_simulator = Aer.backends(name='qasm_simulator')[0]"
   ]
  },
  {
   "cell_type": "code",
   "execution_count": 2,
   "id": "above-community",
   "metadata": {},
   "outputs": [
    {
     "name": "stdout",
     "output_type": "stream",
     "text": [
      "OPENQASM 2.0;\n",
      "include \"qelib1.inc\";\n",
      "qreg q0[3];\n",
      "creg c0[3];\n",
      "h q0[0];\n",
      "id q0[1];\n",
      "id q0[2];\n",
      "measure q0[0] -> c0[0];\n",
      "\n"
     ]
    }
   ],
   "source": [
    "# qasm\n",
    "q = QuantumRegister(3)\n",
    "c = ClassicalRegister(3)\n",
    "qc = QuantumCircuit(q,c)\n",
    "\n",
    "qc.h(q[0])\n",
    "qc.id(q[1])\n",
    "qc.id(q[2])\n",
    "\n",
    "qc.measure(q[0],c[0])\n",
    "\n",
    "print(qc.qasm())"
   ]
  },
  {
   "cell_type": "code",
   "execution_count": 3,
   "id": "comparative-queue",
   "metadata": {},
   "outputs": [
    {
     "name": "stdout",
     "output_type": "stream",
     "text": [
      "qreg q[1];\n",
      "creg c[1];\n",
      "h q[0];\n",
      "\n"
     ]
    }
   ],
   "source": [
    "# Name registers\n",
    "q = QuantumRegister(1,name='q')\n",
    "c = ClassicalRegister(1,name='c')\n",
    "qc = QuantumCircuit(q,c,name='qc')\n",
    "\n",
    "qc.h(q[0])\n",
    "\n",
    "Inst = qc.qasm()\n",
    "print(Inst[36:len(Inst)])"
   ]
  },
  {
   "cell_type": "code",
   "execution_count": 4,
   "id": "spanish-amazon",
   "metadata": {},
   "outputs": [
    {
     "name": "stdout",
     "output_type": "stream",
     "text": [
      "qreg q[2];\n",
      "creg c[3];\n",
      "h q[0];\n",
      "h q[1];\n",
      "measure q[0] -> c[0];\n",
      " \n",
      "\n",
      "[(<qiskit.circuit.library.standard_gates.h.HGate object at 0x0000019C5BA32D60>, [Qubit(QuantumRegister(2, 'q'), 0)], []), (<qiskit.circuit.library.standard_gates.h.HGate object at 0x0000019C5BA32580>, [Qubit(QuantumRegister(2, 'q'), 1)], []), (<qiskit.circuit.measure.Measure object at 0x0000019C5BA32F40>, [Qubit(QuantumRegister(2, 'q'), 0)], [Clbit(ClassicalRegister(3, 'c'), 0)])] \n",
      "\n",
      "[QuantumRegister(2, 'q')] \n",
      "\n",
      "[ClassicalRegister(3, 'c')]\n"
     ]
    }
   ],
   "source": [
    "# QuantumCircuit elements\n",
    "q = QuantumRegister(2,name='q')\n",
    "c = ClassicalRegister(3,name='c')\n",
    "qc = QuantumCircuit(q,c,name='qc')\n",
    "\n",
    "qc.h(q[0])\n",
    "qc.h(q[1])\n",
    "qc.measure(q[0],c[0])\n",
    "\n",
    "print(qc.qasm()[36:len(qc.qasm())],'\\n')\n",
    "print(qc.data,'\\n')\n",
    "print(qc.qregs,'\\n')\n",
    "print(qc.cregs)"
   ]
  },
  {
   "cell_type": "code",
   "execution_count": 5,
   "id": "banned-durham",
   "metadata": {},
   "outputs": [
    {
     "name": "stdout",
     "output_type": "stream",
     "text": [
      "qreg q[2];\n",
      "creg c[3];\n",
      "h q[0];\n",
      "h q[1];\n",
      "measure q[0] -> c[0];\n",
      " \n",
      "\n",
      "qreg q[2];\n",
      "creg c[3];\n",
      "h q[0];\n",
      "measure q[0] -> c[0];\n",
      " \n",
      "\n",
      "qreg q[2];\n",
      "creg c[3];\n",
      "h q[0];\n",
      "measure q[0] -> c[0];\n",
      "h q[1];\n",
      " \n",
      "\n",
      "qreg q[2];\n",
      "creg c[3];\n",
      "h q[1];\n",
      "h q[0];\n",
      "measure q[0] -> c[0];\n",
      "h q[1];\n",
      " \n",
      "\n"
     ]
    }
   ],
   "source": [
    "# Editing a QuantumCircuit\n",
    "q = QuantumRegister(2,name='q')\n",
    "c = ClassicalRegister(3,name='c')\n",
    "qc = QuantumCircuit(q,c,name='qc')\n",
    "\n",
    "qc.h(q[0])\n",
    "qc.h(q[1])\n",
    "qc.measure(q[0],c[0])\n",
    "\n",
    "# Initial\n",
    "print(qc.qasm()[36:len(qc.qasm())],'\\n')\n",
    "\n",
    "inst = qc.data[1]\n",
    "del qc.data[1]\n",
    "print(qc.qasm()[36:len(qc.qasm())],'\\n')\n",
    "\n",
    "qc.data.append(inst)\n",
    "print(qc.qasm()[36:len(qc.qasm())],'\\n')\n",
    "\n",
    "qc.data.insert(0,inst)\n",
    "print(qc.qasm()[36:len(qc.qasm())],'\\n')"
   ]
  },
  {
   "cell_type": "code",
   "execution_count": 6,
   "id": "secondary-string",
   "metadata": {},
   "outputs": [
    {
     "name": "stdout",
     "output_type": "stream",
     "text": [
      "qreg q[1];\n",
      "creg c[1];\n",
      "h q[0];\n",
      "measure q[0] -> c[0];\n",
      " \n",
      "\n",
      "qreg q2[1];\n",
      "creg c2[1];\n",
      "h q2[0];\n",
      "\n"
     ]
    }
   ],
   "source": [
    "# Two QuantumCircuits in parallel\n",
    "q = QuantumRegister(1,name='q')\n",
    "c = ClassicalRegister(1,name='c')\n",
    "qc = QuantumCircuit(q,c,name='qc')\n",
    "\n",
    "q2 = QuantumRegister(1,name='q2')\n",
    "c2 = ClassicalRegister(1,name='c2')\n",
    "qc2 = QuantumCircuit(q2,c2,name='qc2')\n",
    "\n",
    "qc.h(q[0])\n",
    "qc.measure(q[0],c[0])\n",
    "qc2.h(q2[0])\n",
    "\n",
    "print(qc.qasm()[36:len(qc.qasm())],'\\n')\n",
    "print(qc2.qasm()[36:len(qc2.qasm())])"
   ]
  },
  {
   "cell_type": "code",
   "execution_count": 7,
   "id": "complicated-finding",
   "metadata": {},
   "outputs": [
    {
     "name": "stdout",
     "output_type": "stream",
     "text": [
      "qreg q[1];\n",
      "creg c[1];\n",
      "creg c2[1];\n",
      "h q[0];\n",
      "measure q[0] -> c2[0];\n",
      " \n",
      "\n",
      "qreg q2[1];\n",
      "qreg q[1];\n",
      "creg c2[1];\n",
      "h q2[0];\n",
      "h q[0];\n",
      "\n"
     ]
    }
   ],
   "source": [
    "# Two QuantumCircuits interacting\n",
    "q = QuantumRegister(1,name='q')\n",
    "c = ClassicalRegister(1,name='c')\n",
    "qc = QuantumCircuit(q,c,name='qc')\n",
    "\n",
    "q2 = QuantumRegister(1,name='q2')\n",
    "c2 = ClassicalRegister(1,name='c2')\n",
    "qc2 = QuantumCircuit(q2,c2,name='qc2')\n",
    "\n",
    "qc.add_register(c2)\n",
    "qc2.add_register(q)\n",
    "\n",
    "qc.h(q[0])\n",
    "qc2.h(q2[0])\n",
    "qc.measure(q[0],c2[0])\n",
    "qc2.h(q[0])\n",
    "\n",
    "print(qc.qasm()[36:len(qc.qasm())],'\\n')\n",
    "print(qc2.qasm()[36:len(qc2.qasm())])"
   ]
  },
  {
   "cell_type": "code",
   "execution_count": 8,
   "id": "engaging-knife",
   "metadata": {},
   "outputs": [
    {
     "name": "stdout",
     "output_type": "stream",
     "text": [
      "qreg q1[2];\n",
      "qreg q2[2];\n",
      "creg c1[3];\n",
      "creg c2[3];\n",
      "h q1[0];\n",
      "id q1[1];\n",
      "id q2[0];\n",
      "h q2[1];\n",
      " \n",
      "\n",
      "qreg q1[2];\n",
      "qreg q2[2];\n",
      "creg c1[3];\n",
      "creg c2[3];\n",
      "h q1[0];\n",
      "id q1[1];\n",
      "id q2[0];\n",
      "h q2[1];\n",
      "\n"
     ]
    }
   ],
   "source": [
    "# Combining QuantumCircuits\n",
    "q1 = QuantumRegister(2,name='q1')\n",
    "c1 = ClassicalRegister(3,name='c1')\n",
    "qc1 = QuantumCircuit(q1,c1,name='qc1')\n",
    "\n",
    "q2 = QuantumRegister(2,name='q2')\n",
    "c2 = ClassicalRegister(3,name='c2')\n",
    "qc2 = QuantumCircuit(q2,c2,name='qc2')\n",
    "\n",
    "qc1.h(q1[0])\n",
    "qc1.id(q1[1])\n",
    "qc2.id(q2[0])\n",
    "qc2.h(q2[1])\n",
    "\n",
    "# + combines circuits\n",
    "qc3 = qc1 + qc2\n",
    "print(qc3.qasm()[36:len(qc3.qasm())],'\\n')\n",
    "\n",
    "qc1 += qc2\n",
    "print(qc1.qasm()[36:len(qc1.qasm())])"
   ]
  },
  {
   "cell_type": "code",
   "execution_count": 9,
   "id": "apart-boost",
   "metadata": {},
   "outputs": [
    {
     "data": {
      "image/png": "[encoded data removed]",
      "text/plain": [
       "<Figure size 267.052x204.68 with 1 Axes>"
      ]
     },
     "execution_count": 9,
     "metadata": {},
     "output_type": "execute_result"
    }
   ],
   "source": [
    "# Draw\n",
    "q = QuantumRegister(2,name='q')\n",
    "c = ClassicalRegister(2,name='c')\n",
    "qc = QuantumCircuit(q,c,name='qc')\n",
    "\n",
    "qc.h(q[0])\n",
    "qc.h(q[1])\n",
    "qc.measure(q,c)\n",
    "\n",
    "qc.draw(output='mpl')"
   ]
  },
  {
   "cell_type": "code",
   "execution_count": null,
   "id": "productive-ecology",
   "metadata": {},
   "outputs": [],
   "source": []
  }
 ],
 "metadata": {
  "kernelspec": {
   "display_name": "Python 3",
   "language": "python",
   "name": "python3"
  },
  "language_info": {
   "codemirror_mode": {
    "name": "ipython",
    "version": 3
   },
   "file_extension": ".py",
   "mimetype": "text/x-python",
   "name": "python",
   "nbconvert_exporter": "python",
   "pygments_lexer": "ipython3",
   "version": "3.8.5"
  }
 },
 "nbformat": 4,
 "nbformat_minor": 5
}
