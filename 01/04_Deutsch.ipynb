{
 "cells": [
  {
   "cell_type": "code",
   "execution_count": 1,
   "id": "western-muscle",
   "metadata": {},
   "outputs": [],
   "source": [
    "from qiskit import *\n",
    "S_simulator = Aer.backends(name='statevector_simulator')[0]\n",
    "M_simulator = Aer.backends(name='qasm_simulator')[0]"
   ]
  },
  {
   "cell_type": "code",
   "execution_count": null,
   "id": "touched-ottawa",
   "metadata": {},
   "outputs": [],
   "source": []
  }
 ],
 "metadata": {
  "kernelspec": {
   "display_name": "Python 3",
   "language": "python",
   "name": "python3"
  },
  "language_info": {
   "codemirror_mode": {
    "name": "ipython",
    "version": 3
   },
   "file_extension": ".py",
   "mimetype": "text/x-python",
   "name": "python",
   "nbconvert_exporter": "python",
   "pygments_lexer": "ipython3",
   "version": "3.8.5"
  }
 },
 "nbformat": 4,
 "nbformat_minor": 5
}
