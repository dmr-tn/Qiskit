{
 "cells": [
  {
   "cell_type": "code",
   "execution_count": 1,
   "id": "circular-venice",
   "metadata": {},
   "outputs": [],
   "source": [
    "from qiskit import *\n",
    "import math as m\n",
    "S_simulator = Aer.backends(name='statevector_simulator')[0]\n",
    "M_simulator = Aer.backends(name='qasm_simulator')[0]"
   ]
  },
  {
   "cell_type": "code",
   "execution_count": 2,
   "id": "billion-roulette",
   "metadata": {},
   "outputs": [
    {
     "name": "stdout",
     "output_type": "stream",
     "text": [
      "[1.+0.j 0.+0.j]\n"
     ]
    },
    {
     "data": {
      "image/png": "[encoded data removed]",
      "text/plain": [
       "<Figure size 133.526x84.28 with 1 Axes>"
      ]
     },
     "execution_count": 2,
     "metadata": {},
     "output_type": "execute_result"
    }
   ],
   "source": [
    "# Single Qubit - Identity\n",
    "q = QuantumRegister(1,name='q')\n",
    "qc = QuantumCircuit(q,name='qc')\n",
    "\n",
    "qc.id(q[0])\n",
    "\n",
    "print(execute(qc,S_simulator).result().get_statevector())\n",
    "qc.draw(output='mpl')"
   ]
  },
  {
   "cell_type": "code",
   "execution_count": 3,
   "id": "operational-buying",
   "metadata": {},
   "outputs": [
    {
     "name": "stdout",
     "output_type": "stream",
     "text": [
      "[0.70710678+0.j 0.70710678+0.j]\n"
     ]
    },
    {
     "data": {
      "image/png": "[encoded data removed]",
      "text/plain": [
       "<Figure size 133.526x84.28 with 1 Axes>"
      ]
     },
     "execution_count": 3,
     "metadata": {},
     "output_type": "execute_result"
    }
   ],
   "source": [
    "# Hadamard\n",
    "q = QuantumRegister(1,name='q')\n",
    "qc = QuantumCircuit(q,name='qc')\n",
    "\n",
    "qc.h(q[0])\n",
    "\n",
    "print(execute(qc,S_simulator).result().get_statevector())\n",
    "qc.draw(output='mpl')"
   ]
  },
  {
   "cell_type": "code",
   "execution_count": 4,
   "id": "understanding-berkeley",
   "metadata": {},
   "outputs": [
    {
     "name": "stdout",
     "output_type": "stream",
     "text": [
      "[0.+0.j 1.+0.j]\n"
     ]
    },
    {
     "data": {
      "image/png": "[encoded data removed]",
      "text/plain": [
       "<Figure size 133.526x84.28 with 1 Axes>"
      ]
     },
     "execution_count": 4,
     "metadata": {},
     "output_type": "execute_result"
    }
   ],
   "source": [
    "# Pauli X\n",
    "q = QuantumRegister(1,name='q')\n",
    "qc = QuantumCircuit(q,name='qc')\n",
    "\n",
    "qc.x(q[0])\n",
    "\n",
    "print(execute(qc,S_simulator).result().get_statevector())\n",
    "qc.draw(output='mpl')"
   ]
  },
  {
   "cell_type": "code",
   "execution_count": 5,
   "id": "sporting-stopping",
   "metadata": {},
   "outputs": [
    {
     "name": "stdout",
     "output_type": "stream",
     "text": [
      "[0.-0.j 0.+1.j]\n"
     ]
    },
    {
     "data": {
      "image/png": "[encoded data removed]",
      "text/plain": [
       "<Figure size 133.526x84.28 with 1 Axes>"
      ]
     },
     "execution_count": 5,
     "metadata": {},
     "output_type": "execute_result"
    }
   ],
   "source": [
    "# Pauli Y\n",
    "q = QuantumRegister(1,name='q')\n",
    "qc = QuantumCircuit(q,name='qc')\n",
    "\n",
    "qc.y(q[0])\n",
    "\n",
    "print(execute(qc,S_simulator).result().get_statevector())\n",
    "qc.draw(output='mpl')"
   ]
  },
  {
   "cell_type": "code",
   "execution_count": 6,
   "id": "technical-embassy",
   "metadata": {},
   "outputs": [
    {
     "name": "stdout",
     "output_type": "stream",
     "text": [
      "[ 1.+0.j -0.+0.j]\n"
     ]
    },
    {
     "data": {
      "image/png": "[encoded data removed]",
      "text/plain": [
       "<Figure size 133.526x84.28 with 1 Axes>"
      ]
     },
     "execution_count": 6,
     "metadata": {},
     "output_type": "execute_result"
    }
   ],
   "source": [
    "# Pauli Z\n",
    "q = QuantumRegister(1,name='q')\n",
    "qc = QuantumCircuit(q,name='qc')\n",
    "\n",
    "qc.z(q[0])\n",
    "\n",
    "print(execute(qc,S_simulator).result().get_statevector())\n",
    "qc.draw(output='mpl')"
   ]
  },
  {
   "cell_type": "code",
   "execution_count": 7,
   "id": "separate-vertex",
   "metadata": {},
   "outputs": [
    {
     "name": "stdout",
     "output_type": "stream",
     "text": [
      "[1.+0.j 0.+0.j]\n"
     ]
    },
    {
     "data": {
      "image/png": "[encoded data removed]",
      "text/plain": [
       "<Figure size 133.526x84.28 with 1 Axes>"
      ]
     },
     "execution_count": 7,
     "metadata": {},
     "output_type": "execute_result"
    }
   ],
   "source": [
    "# Phase\n",
    "q = QuantumRegister(1,name='q')\n",
    "qc = QuantumCircuit(q,name='qc')\n",
    "\n",
    "qc.p(m.pi/4, q[0])\n",
    "\n",
    "print(execute(qc,S_simulator).result().get_statevector())\n",
    "qc.draw(output='mpl')"
   ]
  },
  {
   "cell_type": "code",
   "execution_count": 8,
   "id": "respective-westminster",
   "metadata": {},
   "outputs": [
    {
     "name": "stdout",
     "output_type": "stream",
     "text": [
      "[ 1.+0.j -0.+0.j]\n"
     ]
    },
    {
     "data": {
      "image/png": "[encoded data removed]",
      "text/plain": [
       "<Figure size 133.526x84.28 with 1 Axes>"
      ]
     },
     "execution_count": 8,
     "metadata": {},
     "output_type": "execute_result"
    }
   ],
   "source": [
    "# S\n",
    "q = QuantumRegister(1,name='q')\n",
    "qc = QuantumCircuit(q,name='qc')\n",
    "\n",
    "qc.s(q[0])\n",
    "\n",
    "print(execute(qc,S_simulator).result().get_statevector())\n",
    "qc.draw(output='mpl')"
   ]
  },
  {
   "cell_type": "code",
   "execution_count": 9,
   "id": "cultural-model",
   "metadata": {},
   "outputs": [
    {
     "name": "stdout",
     "output_type": "stream",
     "text": [
      "[1.+0.j 0.+0.j]\n"
     ]
    },
    {
     "data": {
      "image/png": "[encoded data removed]",
      "text/plain": [
       "<Figure size 133.526x84.28 with 1 Axes>"
      ]
     },
     "execution_count": 9,
     "metadata": {},
     "output_type": "execute_result"
    }
   ],
   "source": [
    "# T\n",
    "q = QuantumRegister(1,name='q')\n",
    "qc = QuantumCircuit(q,name='qc')\n",
    "\n",
    "qc.t(q[0])\n",
    "\n",
    "print(execute(qc,S_simulator).result().get_statevector())\n",
    "qc.draw(output='mpl')"
   ]
  },
  {
   "cell_type": "code",
   "execution_count": 10,
   "id": "abroad-mention",
   "metadata": {},
   "outputs": [
    {
     "name": "stdout",
     "output_type": "stream",
     "text": [
      "[0.70710678+0.j         0.        -0.70710678j]\n"
     ]
    },
    {
     "data": {
      "image/png": "[encoded data removed]",
      "text/plain": [
       "<Figure size 133.526x84.28 with 1 Axes>"
      ]
     },
     "execution_count": 10,
     "metadata": {},
     "output_type": "execute_result"
    }
   ],
   "source": [
    "# Rx\n",
    "q = QuantumRegister(1,name='q')\n",
    "qc = QuantumCircuit(q,name='qc')\n",
    "\n",
    "qc.rx(m.pi/2, q[0])\n",
    "\n",
    "print(execute(qc,S_simulator).result().get_statevector())\n",
    "qc.draw(output='mpl')"
   ]
  },
  {
   "cell_type": "code",
   "execution_count": 11,
   "id": "universal-separate",
   "metadata": {},
   "outputs": [
    {
     "name": "stdout",
     "output_type": "stream",
     "text": [
      "[0.70710678+0.j 0.70710678+0.j]\n"
     ]
    },
    {
     "data": {
      "image/png": "[encoded data removed]",
      "text/plain": [
       "<Figure size 133.526x84.28 with 1 Axes>"
      ]
     },
     "execution_count": 11,
     "metadata": {},
     "output_type": "execute_result"
    }
   ],
   "source": [
    "# Ry\n",
    "q = QuantumRegister(1,name='q')\n",
    "qc = QuantumCircuit(q,name='qc')\n",
    "\n",
    "qc.ry(m.pi/2, q[0])\n",
    "\n",
    "print(execute(qc,S_simulator).result().get_statevector())\n",
    "qc.draw(output='mpl')"
   ]
  },
  {
   "cell_type": "code",
   "execution_count": 12,
   "id": "ethical-graphic",
   "metadata": {},
   "outputs": [
    {
     "name": "stdout",
     "output_type": "stream",
     "text": [
      "[0.70710678-0.70710678j 0.        +0.j        ]\n"
     ]
    },
    {
     "data": {
      "image/png": "[encoded data removed]",
      "text/plain": [
       "<Figure size 133.526x84.28 with 1 Axes>"
      ]
     },
     "execution_count": 12,
     "metadata": {},
     "output_type": "execute_result"
    }
   ],
   "source": [
    "# Rz\n",
    "q = QuantumRegister(1,name='q')\n",
    "qc = QuantumCircuit(q,name='qc')\n",
    "\n",
    "qc.rz(m.pi/2, q[0])\n",
    "\n",
    "print(execute(qc,S_simulator).result().get_statevector())\n",
    "qc.draw(output='mpl')"
   ]
  },
  {
   "cell_type": "code",
   "execution_count": 13,
   "id": "second-better",
   "metadata": {},
   "outputs": [
    {
     "name": "stdout",
     "output_type": "stream",
     "text": [
      "[ 0.70710678+0.j -0.        +0.j  0.        +0.j -0.70710678+0.j]\n"
     ]
    },
    {
     "data": {
      "image/png": "[encoded data removed]",
      "text/plain": [
       "<Figure size 267.052x144.48 with 1 Axes>"
      ]
     },
     "execution_count": 13,
     "metadata": {},
     "output_type": "execute_result"
    }
   ],
   "source": [
    "# Two qubit - CNOT\n",
    "q = QuantumRegister(2,name='q')\n",
    "qc = QuantumCircuit(q,name='qc')\n",
    "\n",
    "qc.h(q[0])\n",
    "qc.z(q[0])\n",
    "\n",
    "qc.cx(q[0],q[1])\n",
    "\n",
    "print(execute(qc,S_simulator).result().get_statevector())\n",
    "qc.draw(output='mpl')"
   ]
  },
  {
   "cell_type": "code",
   "execution_count": 14,
   "id": "municipal-stake",
   "metadata": {},
   "outputs": [
    {
     "name": "stdout",
     "output_type": "stream",
     "text": [
      "[ 0.        +0.j  0.        +0.j  0.70710678+0.j -0.70710678+0.j]\n"
     ]
    },
    {
     "data": {
      "image/png": "[encoded data removed]",
      "text/plain": [
       "<Figure size 206.852x144.48 with 1 Axes>"
      ]
     },
     "execution_count": 14,
     "metadata": {},
     "output_type": "execute_result"
    }
   ],
   "source": [
    "# CZ\n",
    "q = QuantumRegister(2,name='q')\n",
    "qc = QuantumCircuit(q,name='qc')\n",
    "\n",
    "qc.h(q[0])\n",
    "qc.x(q[1])\n",
    "\n",
    "qc.cz(q[0],q[1])\n",
    "\n",
    "print(execute(qc,S_simulator).result().get_statevector())\n",
    "qc.draw(output='mpl')"
   ]
  },
  {
   "cell_type": "code",
   "execution_count": 15,
   "id": "conceptual-statistics",
   "metadata": {},
   "outputs": [
    {
     "name": "stdout",
     "output_type": "stream",
     "text": [
      "[0.00000000e+00+0.j         7.07106781e-01+0.j\n",
      " 0.00000000e+00+0.j         4.32978028e-17+0.70710678j]\n"
     ]
    },
    {
     "name": "stderr",
     "output_type": "stream",
     "text": [
      "<ipython-input-15-ae28535cdb7f>:9: DeprecationWarning: The QuantumCircuit.cu1 method is deprecated as of 0.16.0. It will be removed no earlier than 3 months after the release date. You should use the QuantumCircuit.cp method instead, which acts identically.\n",
      "  qc.cu1(m.pi/2,q[0],q[1])\n"
     ]
    },
    {
     "data": {
      "image/png": "[encoded data removed]",
      "text/plain": [
       "<Figure size 327.252x144.48 with 1 Axes>"
      ]
     },
     "execution_count": 15,
     "metadata": {},
     "output_type": "execute_result"
    }
   ],
   "source": [
    "# CPhase\n",
    "q = QuantumRegister(2,name='q')\n",
    "qc = QuantumCircuit(q,name='qc')\n",
    "\n",
    "qc.x(q[0])\n",
    "qc.h(q[1])\n",
    "qc.id(q[1])\n",
    "\n",
    "qc.cu1(m.pi/2,q[0],q[1])\n",
    "\n",
    "print(execute(qc,S_simulator).result().get_statevector())\n",
    "qc.draw(output='mpl')"
   ]
  },
  {
   "cell_type": "code",
   "execution_count": 16,
   "id": "straight-livestock",
   "metadata": {},
   "outputs": [
    {
     "name": "stdout",
     "output_type": "stream",
     "text": [
      "[0.        +0.j 0.        +0.j 0.70710678+0.j 0.70710678+0.j]\n"
     ]
    },
    {
     "data": {
      "image/png": "[encoded data removed]",
      "text/plain": [
       "<Figure size 267.052x144.48 with 1 Axes>"
      ]
     },
     "execution_count": 16,
     "metadata": {},
     "output_type": "execute_result"
    }
   ],
   "source": [
    "# Swap\n",
    "q = QuantumRegister(2,name='q')\n",
    "qc = QuantumCircuit(q,name='qc')\n",
    "\n",
    "qc.x(q[0])\n",
    "qc.h(q[1])\n",
    "qc.id(q[1])\n",
    "\n",
    "qc.swap(q[0],q[1])\n",
    "\n",
    "print(execute(qc,S_simulator).result().get_statevector())\n",
    "qc.draw(output='mpl')"
   ]
  },
  {
   "cell_type": "code",
   "execution_count": 17,
   "id": "oriental-looking",
   "metadata": {},
   "outputs": [
    {
     "name": "stdout",
     "output_type": "stream",
     "text": [
      "[0.        +0.j 0.        +0.j 0.70710678+0.j 0.        +0.j\n",
      " 0.        +0.j 0.70710678+0.j 0.        +0.j 0.        +0.j]\n"
     ]
    },
    {
     "data": {
      "image/png": "[encoded data removed]",
      "text/plain": [
       "<Figure size 206.997x204.68 with 1 Axes>"
      ]
     },
     "execution_count": 17,
     "metadata": {},
     "output_type": "execute_result"
    }
   ],
   "source": [
    "# Three qubit - CSWAP\n",
    "q = QuantumRegister(3,name='q')\n",
    "qc = QuantumCircuit(q,name='qc')\n",
    "\n",
    "qc.h(q[0])\n",
    "qc.x(q[1])\n",
    "\n",
    "qc.cswap(q[0],q[1],q[2])\n",
    "\n",
    "print(execute(qc,S_simulator).result().get_statevector())\n",
    "qc.draw(output='mpl')"
   ]
  },
  {
   "cell_type": "code",
   "execution_count": 18,
   "id": "precious-straight",
   "metadata": {},
   "outputs": [
    {
     "name": "stdout",
     "output_type": "stream",
     "text": [
      "[ 0.        +0.j  0.        +0.j  0.        +0.j -0.70710678+0.j\n",
      " -0.        +0.j -0.        +0.j -0.        +0.j  0.70710678+0.j]\n"
     ]
    },
    {
     "data": {
      "image/png": "[encoded data removed]",
      "text/plain": [
       "<Figure size 267.197x204.68 with 1 Axes>"
      ]
     },
     "execution_count": 18,
     "metadata": {},
     "output_type": "execute_result"
    }
   ],
   "source": [
    "# CCNOT\n",
    "q = QuantumRegister(3,name='q')\n",
    "qc = QuantumCircuit(q,name='qc')\n",
    "\n",
    "qc.x(q[0])\n",
    "qc.x(q[1])\n",
    "qc.h(q[2])\n",
    "qc.z(q[2])\n",
    "\n",
    "qc.ccx(q[0],q[1],q[2])\n",
    "\n",
    "print(execute(qc,S_simulator).result().get_statevector())\n",
    "qc.draw(output='mpl')"
   ]
  },
  {
   "cell_type": "code",
   "execution_count": null,
   "id": "attempted-pointer",
   "metadata": {},
   "outputs": [],
   "source": []
  }
 ],
 "metadata": {
  "kernelspec": {
   "display_name": "Python 3",
   "language": "python",
   "name": "python3"
  },
  "language_info": {
   "codemirror_mode": {
    "name": "ipython",
    "version": 3
   },
   "file_extension": ".py",
   "mimetype": "text/x-python",
   "name": "python",
   "nbconvert_exporter": "python",
   "pygments_lexer": "ipython3",
   "version": "3.8.5"
  }
 },
 "nbformat": 4,
 "nbformat_minor": 5
}
