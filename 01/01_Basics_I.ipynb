{
 "cells": [
  {
   "cell_type": "code",
   "execution_count": 1,
   "id": "ready-television",
   "metadata": {},
   "outputs": [],
   "source": [
    "from qiskit import ClassicalRegister, QuantumRegister, QuantumCircuit, execute, Aer\n",
    "S_simulator = Aer.backends(name='statevector_simulator')[0]\n",
    "M_simulator = Aer.backends(name='qasm_simulator')[0]"
   ]
  },
  {
   "cell_type": "code",
   "execution_count": 2,
   "id": "finite-framework",
   "metadata": {},
   "outputs": [
    {
     "data": {
      "text/plain": [
       "array([1.+0.j, 0.+0.j])"
      ]
     },
     "execution_count": 2,
     "metadata": {},
     "output_type": "execute_result"
    }
   ],
   "source": [
    "# One qubit\n",
    "q = QuantumRegister(1)\n",
    "hello_qubit = QuantumCircuit(q)\n",
    "\n",
    "hello_qubit.id(q[0])\n",
    "\n",
    "job = execute(hello_qubit, S_simulator)\n",
    "result = job.result()\n",
    "result.get_statevector()"
   ]
  },
  {
   "cell_type": "code",
   "execution_count": 3,
   "id": "biblical-manner",
   "metadata": {},
   "outputs": [
    {
     "data": {
      "text/plain": [
       "array([1.+0.j, 0.+0.j, 0.+0.j, 0.+0.j, 0.+0.j, 0.+0.j, 0.+0.j, 0.+0.j])"
      ]
     },
     "execution_count": 3,
     "metadata": {},
     "output_type": "execute_result"
    }
   ],
   "source": [
    "# Three qubits\n",
    "q = QuantumRegister(3)\n",
    "three_qubits = QuantumCircuit(q)\n",
    "\n",
    "three_qubits.id(q[0])\n",
    "three_qubits.id(q[1])\n",
    "three_qubits.id(q[2])\n",
    "\n",
    "job = execute(three_qubits, S_simulator)\n",
    "result = job.result()\n",
    "result.get_statevector()"
   ]
  },
  {
   "cell_type": "code",
   "execution_count": 4,
   "id": "discrete-producer",
   "metadata": {},
   "outputs": [
    {
     "data": {
      "text/plain": [
       "array([0.+0.j, 1.+0.j, 0.+0.j, 0.+0.j, 0.+0.j, 0.+0.j, 0.+0.j, 0.+0.j])"
      ]
     },
     "execution_count": 4,
     "metadata": {},
     "output_type": "execute_result"
    }
   ],
   "source": [
    "# Bit flip\n",
    "q = QuantumRegister(3)\n",
    "three_qubits = QuantumCircuit(q)\n",
    "\n",
    "three_qubits.x(q[0])\n",
    "three_qubits.id(q[1])\n",
    "three_qubits.id(q[2])\n",
    "\n",
    "job = execute(three_qubits, S_simulator)\n",
    "result = job.result()\n",
    "result.get_statevector()"
   ]
  },
  {
   "cell_type": "code",
   "execution_count": 5,
   "id": "bibliographic-month",
   "metadata": {},
   "outputs": [
    {
     "data": {
      "text/plain": [
       "array([0.70710678+0.j, 0.70710678+0.j])"
      ]
     },
     "execution_count": 5,
     "metadata": {},
     "output_type": "execute_result"
    }
   ],
   "source": [
    "# Superposition - one qubit\n",
    "q = QuantumRegister(1)\n",
    "H_circuit = QuantumCircuit(q)\n",
    "\n",
    "H_circuit.h(q[0])\n",
    "\n",
    "job = execute(H_circuit, S_simulator)\n",
    "result = job.result()\n",
    "result.get_statevector()"
   ]
  },
  {
   "cell_type": "code",
   "execution_count": 6,
   "id": "dying-worst",
   "metadata": {},
   "outputs": [
    {
     "data": {
      "text/plain": [
       "array([0.5+0.j, 0.5+0.j, 0.5+0.j, 0.5+0.j])"
      ]
     },
     "execution_count": 6,
     "metadata": {},
     "output_type": "execute_result"
    }
   ],
   "source": [
    "# Superposition - two qubits\n",
    "q = QuantumRegister(2)\n",
    "H_circuit = QuantumCircuit(q)\n",
    "\n",
    "H_circuit.h(q[0])\n",
    "H_circuit.h(q[1])\n",
    "\n",
    "job = execute(H_circuit, S_simulator)\n",
    "result = job.result()\n",
    "result.get_statevector()"
   ]
  },
  {
   "cell_type": "code",
   "execution_count": 7,
   "id": "visible-earth",
   "metadata": {},
   "outputs": [
    {
     "data": {
      "text/plain": [
       "{'0': 470, '1': 554}"
      ]
     },
     "execution_count": 7,
     "metadata": {},
     "output_type": "execute_result"
    }
   ],
   "source": [
    "# Measure\n",
    "q = QuantumRegister(1)\n",
    "c = ClassicalRegister(1)\n",
    "qc = QuantumCircuit(q,c)\n",
    "\n",
    "qc.h(q[0])\n",
    "qc.measure(q,c)\n",
    "\n",
    "job = execute(qc, M_simulator)\n",
    "result = job.result()\n",
    "result.get_counts(qc)"
   ]
  },
  {
   "cell_type": "code",
   "execution_count": 8,
   "id": "forty-check",
   "metadata": {},
   "outputs": [
    {
     "name": "stdout",
     "output_type": "stream",
     "text": [
      "{'00': 243, '01': 263, '10': 267, '11': 251}\n"
     ]
    }
   ],
   "source": [
    "# Measure - Full\n",
    "q = QuantumRegister(2)\n",
    "c = ClassicalRegister(2)\n",
    "qc = QuantumCircuit(q,c)\n",
    "\n",
    "qc.h(q[0])\n",
    "qc.h(q[1])\n",
    "qc.measure(q,c)\n",
    "\n",
    "M = execute(qc, M_simulator).result().get_counts(qc)\n",
    "print(M)"
   ]
  },
  {
   "cell_type": "code",
   "execution_count": 9,
   "id": "appointed-tracy",
   "metadata": {},
   "outputs": [
    {
     "name": "stdout",
     "output_type": "stream",
     "text": [
      "{'00': 537, '01': 487}\n"
     ]
    }
   ],
   "source": [
    "# Measure - Partial\n",
    "q = QuantumRegister(2)\n",
    "c = ClassicalRegister(2)\n",
    "qc = QuantumCircuit(q,c)\n",
    "\n",
    "qc.h(q[0])\n",
    "qc.h(q[1])\n",
    "qc.measure(q[0],c[0])\n",
    "\n",
    "M = execute(qc, M_simulator).result().get_counts(qc)\n",
    "# Qubit 0 stored in rightmost index\n",
    "print(M)"
   ]
  },
  {
   "cell_type": "code",
   "execution_count": 10,
   "id": "accurate-cookbook",
   "metadata": {},
   "outputs": [
    {
     "name": "stdout",
     "output_type": "stream",
     "text": [
      "{'00': 48, '10': 52}\n"
     ]
    }
   ],
   "source": [
    "# Measure - Shots\n",
    "q = QuantumRegister(2)\n",
    "c = ClassicalRegister(2)\n",
    "qc = QuantumCircuit(q,c)\n",
    "\n",
    "qc.id(q[0])\n",
    "qc.h(q[1])\n",
    "qc.measure(q,c)\n",
    "\n",
    "M = execute(qc, M_simulator, shots=100).result().get_counts(qc)\n",
    "print(M)"
   ]
  },
  {
   "cell_type": "code",
   "execution_count": 11,
   "id": "consistent-antique",
   "metadata": {},
   "outputs": [
    {
     "name": "stdout",
     "output_type": "stream",
     "text": [
      "{'000': 45, '010': 55}\n"
     ]
    }
   ],
   "source": [
    "# Particular about wher qubits are stored in cbits\n",
    "q = QuantumRegister(3)\n",
    "c = ClassicalRegister(3)\n",
    "qc = QuantumCircuit(q,c)\n",
    "\n",
    "qc.h(q[0])\n",
    "qc.id(q[1])\n",
    "qc.id(q[2])\n",
    "\n",
    "qc.measure(q[0],c[1])\n",
    "qc.measure(q[1],c[0])\n",
    "qc.measure(q[2],c[2])\n",
    "\n",
    "M = execute(qc, M_simulator, shots=100).result().get_counts(qc)\n",
    "print(M)"
   ]
  },
  {
   "cell_type": "code",
   "execution_count": null,
   "id": "average-bench",
   "metadata": {},
   "outputs": [],
   "source": []
  }
 ],
 "metadata": {
  "kernelspec": {
   "display_name": "Python 3",
   "language": "python",
   "name": "python3"
  },
  "language_info": {
   "codemirror_mode": {
    "name": "ipython",
    "version": 3
   },
   "file_extension": ".py",
   "mimetype": "text/x-python",
   "name": "python",
   "nbconvert_exporter": "python",
   "pygments_lexer": "ipython3",
   "version": "3.8.5"
  }
 },
 "nbformat": 4,
 "nbformat_minor": 5
}
