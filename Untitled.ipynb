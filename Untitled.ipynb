{
 "cells": [
  {
   "cell_type": "code",
   "execution_count": 3,
   "id": "mineral-emerald",
   "metadata": {},
   "outputs": [],
   "source": [
    "from qiskit import ClassicalRegister, QuantumRegister, QuantumCircuit, execute, Aer\n",
    "import numpy as np\n",
    "import math as m\n",
    "S_simulator = Aer.backends(name='statevector_simulator')[0]\n",
    "M_simulator = Aer.backends(name='qasm_simulator')[0]"
   ]
  },
  {
   "cell_type": "code",
   "execution_count": 6,
   "id": "powerful-founder",
   "metadata": {},
   "outputs": [
    {
     "data": {
      "text/plain": [
       "array([1.+0.j, 0.+0.j])"
      ]
     },
     "execution_count": 6,
     "metadata": {},
     "output_type": "execute_result"
    }
   ],
   "source": [
    "# One qubit\n",
    "q = QuantumRegister(1)\n",
    "hello_qubit = QuantumCircuit(q)\n",
    "\n",
    "hello_qubit.id(q[0])\n",
    "\n",
    "job = execute(hello_qubit, S_simulator)\n",
    "result = job.result()\n",
    "result.get_statevector()"
   ]
  },
  {
   "cell_type": "code",
   "execution_count": 10,
   "id": "loved-evans",
   "metadata": {},
   "outputs": [
    {
     "data": {
      "text/plain": [
       "array([1.+0.j, 0.+0.j, 0.+0.j, 0.+0.j, 0.+0.j, 0.+0.j, 0.+0.j, 0.+0.j])"
      ]
     },
     "execution_count": 10,
     "metadata": {},
     "output_type": "execute_result"
    }
   ],
   "source": [
    "# Three qubits\n",
    "q = QuantumRegister(3)\n",
    "three_qubits = QuantumCircuit(q)\n",
    "\n",
    "three_qubits.id(q[0])\n",
    "three_qubits.id(q[1])\n",
    "three_qubits.id(q[2])\n",
    "\n",
    "job = execute(three_qubits, S_simulator)\n",
    "result = job.result()\n",
    "result.get_statevector()"
   ]
  },
  {
   "cell_type": "code",
   "execution_count": 11,
   "id": "balanced-waste",
   "metadata": {},
   "outputs": [
    {
     "data": {
      "text/plain": [
       "array([0.+0.j, 1.+0.j, 0.+0.j, 0.+0.j, 0.+0.j, 0.+0.j, 0.+0.j, 0.+0.j])"
      ]
     },
     "execution_count": 11,
     "metadata": {},
     "output_type": "execute_result"
    }
   ],
   "source": [
    "# Bit flip\n",
    "q = QuantumRegister(3)\n",
    "three_qubits = QuantumCircuit(q)\n",
    "\n",
    "three_qubits.x(q[0])\n",
    "three_qubits.id(q[1])\n",
    "three_qubits.id(q[2])\n",
    "\n",
    "job = execute(three_qubits, S_simulator)\n",
    "result = job.result()\n",
    "result.get_statevector()"
   ]
  },
  {
   "cell_type": "code",
   "execution_count": 13,
   "id": "necessary-granny",
   "metadata": {},
   "outputs": [
    {
     "data": {
      "text/plain": [
       "array([0.70710678+0.j, 0.70710678+0.j])"
      ]
     },
     "execution_count": 13,
     "metadata": {},
     "output_type": "execute_result"
    }
   ],
   "source": [
    "# Superposition - one qubit\n",
    "q = QuantumRegister(1)\n",
    "H_circuit = QuantumCircuit(q)\n",
    "\n",
    "H_circuit.h(q[0])\n",
    "\n",
    "job = execute(H_circuit, S_simulator)\n",
    "result = job.result()\n",
    "result.get_statevector()"
   ]
  },
  {
   "cell_type": "code",
   "execution_count": 14,
   "id": "creative-saturday",
   "metadata": {},
   "outputs": [
    {
     "data": {
      "text/plain": [
       "array([0.5+0.j, 0.5+0.j, 0.5+0.j, 0.5+0.j])"
      ]
     },
     "execution_count": 14,
     "metadata": {},
     "output_type": "execute_result"
    }
   ],
   "source": [
    "# Superposition - two qubits\n",
    "q = QuantumRegister(2)\n",
    "H_circuit = QuantumCircuit(q)\n",
    "\n",
    "H_circuit.h(q[0])\n",
    "H_circuit.h(q[1])\n",
    "\n",
    "job = execute(H_circuit, S_simulator)\n",
    "result = job.result()\n",
    "result.get_statevector()"
   ]
  },
  {
   "cell_type": "code",
   "execution_count": 16,
   "id": "growing-messaging",
   "metadata": {},
   "outputs": [
    {
     "data": {
      "text/plain": [
       "{'0': 538, '1': 486}"
      ]
     },
     "execution_count": 16,
     "metadata": {},
     "output_type": "execute_result"
    }
   ],
   "source": [
    "# Measure\n",
    "q = QuantumRegister(1)\n",
    "c = ClassicalRegister(1)\n",
    "qc = QuantumCircuit(q,c)\n",
    "\n",
    "qc.h(q[0])\n",
    "qc.measure(q,c)\n",
    "\n",
    "job = execute(qc, M_simulator)\n",
    "result = job.result()\n",
    "result.get_counts(qc)"
   ]
  },
  {
   "cell_type": "code",
   "execution_count": null,
   "id": "sublime-morning",
   "metadata": {},
   "outputs": [],
   "source": []
  }
 ],
 "metadata": {
  "kernelspec": {
   "display_name": "Python 3",
   "language": "python",
   "name": "python3"
  },
  "language_info": {
   "codemirror_mode": {
    "name": "ipython",
    "version": 3
   },
   "file_extension": ".py",
   "mimetype": "text/x-python",
   "name": "python",
   "nbconvert_exporter": "python",
   "pygments_lexer": "ipython3",
   "version": "3.8.5"
  }
 },
 "nbformat": 4,
 "nbformat_minor": 5
}
